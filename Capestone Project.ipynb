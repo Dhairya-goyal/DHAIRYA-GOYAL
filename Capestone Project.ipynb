{
  "cells": [
    {
      "cell_type": "code",
      "source": [
        "# Install the necessary Python packages for data processing and visualization.\n",
        "!pip install pathway bokeh --quiet"
      ],
      "metadata": {
        "id": "zN6DvR1pW2Dq"
      },
      "id": "zN6DvR1pW2Dq",
      "execution_count": null,
      "outputs": []
    },
    {
      "cell_type": "code",
      "execution_count": null,
      "id": "c4ab4664",
      "metadata": {
        "id": "c4ab4664"
      },
      "outputs": [],
      "source": [
        "# Importing all important libraries\n",
        "import numpy as np\n",
        "import pandas as pd\n",
        "import matplotlib.pyplot as plt\n",
        "import datetime\n",
        "from datetime import datetime\n",
        "import pathway as pw\n",
        "import bokeh.plotting\n",
        "import panel as pn"
      ]
    },
    {
      "cell_type": "code",
      "execution_count": null,
      "id": "4bf983e1",
      "metadata": {
        "id": "4bf983e1"
      },
      "outputs": [],
      "source": [
        "# Load the dataset into a DataFrame and display the few rows to understand its structure.\n",
        "df=pd.read_csv(\"dataset.csv\")\n",
        "df"
      ]
    },
    {
      "cell_type": "code",
      "source": [],
      "metadata": {
        "id": "lUIXQ3sMZHYD"
      },
      "id": "lUIXQ3sMZHYD",
      "execution_count": null,
      "outputs": []
    },
    {
      "cell_type": "code",
      "execution_count": null,
      "id": "db18477a",
      "metadata": {
        "id": "db18477a"
      },
      "outputs": [],
      "source": [
        "df[\"SystemCodeNumber\"].unique()"
      ]
    },
    {
      "cell_type": "code",
      "execution_count": null,
      "id": "ab12cacb",
      "metadata": {
        "id": "ab12cacb"
      },
      "outputs": [],
      "source": [
        "# Encoding the required columns\n",
        "df[\"VehicleType\"]=df[\"VehicleType\"].map({\"car\":2, \"bike\":1,\"truck\":3,\"cycle\":0})\n",
        "df[\"TrafficConditionNearby\"]=df[\"TrafficConditionNearby\"].map({'low':0, 'high':2, 'average':1})\n",
        "df[\"SystemCodeNumber\"]=df[\"SystemCodeNumber\"].map({'BHMBCCMKT01':0, 'BHMBCCTHL01':1, 'BHMEURBRD01':2, 'BHMMBMMBX01':3,'BHMNCPHST01':4, 'BHMNCPNST01':5, 'Broad Street':6, 'Others-CCCPS105a':7,\n",
        "'Others-CCCPS119a':8, 'Others-CCCPS135a':9, 'Others-CCCPS202':10,'Others-CCCPS8':11, 'Others-CCCPS98':12, 'Shopping':13})\n",
        "\n",
        "# Dropping columns which are not useful\n",
        "df=df.drop(\"ID\",axis=\"columns\")"
      ]
    },
    {
      "cell_type": "code",
      "execution_count": null,
      "id": "18a28e1a",
      "metadata": {
        "id": "18a28e1a"
      },
      "outputs": [],
      "source": [
        "# Combine the 'LastUpdatedDate' and 'LastUpdatedTime' columns into a single datetime column\n",
        "df['Timestamp'] = pd.to_datetime(df['LastUpdatedDate'] + ' ' + df['LastUpdatedTime'],\n",
        "                                  format='%d-%m-%Y %H:%M:%S')\n",
        "\n",
        "# Sort the DataFrame by the new 'Timestamp' column and reset the index\n",
        "df = df.sort_values('Timestamp').reset_index(drop=True)"
      ]
    },
    {
      "cell_type": "code",
      "execution_count": null,
      "id": "9bdb6033",
      "metadata": {
        "id": "9bdb6033"
      },
      "outputs": [],
      "source": [
        "df"
      ]
    },
    {
      "cell_type": "code",
      "execution_count": null,
      "id": "af36925f",
      "metadata": {
        "id": "af36925f"
      },
      "outputs": [],
      "source": [
        "# Create a file with only necessary columns i.e. occupancy, timestamp and capacity\n",
        "df[[\"Timestamp\", \"Occupancy\", \"Capacity\", \"QueueLength\",\"VehicleType\",\"IsSpecialDay\",\"TrafficConditionNearby\",]].to_csv(\"parking_stream.csv\", index=False)"
      ]
    },
    {
      "cell_type": "code",
      "execution_count": null,
      "id": "84a98dbf",
      "metadata": {
        "id": "84a98dbf"
      },
      "outputs": [],
      "source": [
        "# Defining the schema for the columns\n",
        "class ParkingSchema(pw.Schema):\n",
        "    Timestamp: str\n",
        "    Occupancy: int\n",
        "    Capacity: int\n",
        "    QueueLength: int\n",
        "    VehicleType: int\n",
        "    IsSpecialDay: int\n",
        "    TrafficConditionNearby: int"
      ]
    },
    {
      "cell_type": "code",
      "execution_count": null,
      "id": "9fe01662",
      "metadata": {
        "id": "9fe01662"
      },
      "outputs": [],
      "source": [
        "# Loading data as a simulated stream\n",
        "data = pw.demo.replay_csv(\"parking_stream.csv\", schema=ParkingSchema, input_rate=1000)"
      ]
    },
    {
      "cell_type": "code",
      "execution_count": null,
      "id": "dc860fdf",
      "metadata": {
        "id": "dc860fdf"
      },
      "outputs": [],
      "source": [
        "# Define the datetime format to parse the 'Timestamp' column\n",
        "fmt = \"%Y-%m-%d %H:%M:%S\"\n",
        "\n",
        "# Add new columns to the data stream:\n",
        "# - 't' contains the parsed full datetime\n",
        "# - 'day' extracts the date part and resets the time to midnight (useful for day-level aggregations)\n",
        "data_with_time = data.with_columns(\n",
        "    t = data.Timestamp.dt.strptime(fmt),\n",
        "    day = data.Timestamp.dt.strptime(fmt).dt.strftime(\"%Y-%m-%dT00:00:00\")\n",
        ")"
      ]
    },
    {
      "cell_type": "markdown",
      "source": [
        "# MODEL **1**"
      ],
      "metadata": {
        "id": "naeFusV5IZHu"
      },
      "id": "naeFusV5IZHu"
    },
    {
      "cell_type": "code",
      "source": [
        "# Make the pricing function\n",
        "import datetime\n",
        "\n",
        "delta_window1 = (\n",
        "    data_with_time.windowby(\n",
        "        pw.this.t,  # Event time column to use for windowing (parsed datetime)\n",
        "        instance=pw.this.day,  # Logical partitioning key: one instance per calendar day\n",
        "        window=pw.temporal.tumbling(datetime.timedelta(days=1)),  # Fixed-size daily window\n",
        "        behavior=pw.temporal.exactly_once_behavior()  # Guarantees exactly-once processing semantics\n",
        "    )\n",
        "    .reduce(\n",
        "        t=pw.this._pw_window_end,                        # Assign the end timestamp of each window\n",
        "        occ_max=pw.reducers.max(pw.this.Occupancy),      # Highest occupancy observed in the window\n",
        "        occ_min=pw.reducers.min(pw.this.Occupancy),      # Lowest occupancy observed in the window\n",
        "        cap=pw.reducers.max(pw.this.Capacity),           # Maximum capacity observed (typically constant per spot)\n",
        "    )\n",
        "    .with_columns(\n",
        "        price=10 + (pw.this.occ_max - pw.this.occ_min) / pw.this.cap\n",
        "    )\n",
        ")"
      ],
      "metadata": {
        "id": "rPaUdgMxZN_n"
      },
      "id": "rPaUdgMxZN_n",
      "execution_count": null,
      "outputs": []
    },
    {
      "cell_type": "markdown",
      "source": [
        "# MODEL **2**"
      ],
      "metadata": {
        "id": "FhFGuC5vIljo"
      },
      "id": "FhFGuC5vIljo"
    },
    {
      "cell_type": "code",
      "source": [
        "# Make the pricing function\n",
        "import datetime\n",
        "\n",
        "delta_window2 = (\n",
        "    data_with_time.windowby(\n",
        "        pw.this.t,  # Event time column to use for windowing (parsed datetime)\n",
        "        instance=pw.this.day,  # Logical partitioning key: one instance per calendar day\n",
        "        window=pw.temporal.tumbling(datetime.timedelta(days=1)),  # Fixed-size daily window\n",
        "        behavior=pw.temporal.exactly_once_behavior()  # Guarantees exactly-once processing semantics\n",
        "    )\n",
        "    .reduce(\n",
        "        t=pw.this._pw_window_end,                        # Assign the end timestamp of each window\n",
        "        occupancy_rate=pw.reducers.max(pw.this.Occupancy),\n",
        "        queue_length=pw.reducers.max(pw.this.QueueLength),\n",
        "        traffic_weight=pw.reducers.max(pw.this.TrafficConditionNearby),\n",
        "        is_special_day=pw.reducers.max(pw.this.IsSpecialDay),\n",
        "        vehicle_weight=pw.reducers.max(pw.this.VehicleType),\n",
        "    )\n",
        "    .with_columns(\n",
        "         demand = (3.0 * pw.this.occupancy_rate + 1.5 * pw.this.queue_length -\n",
        "                 1.0 * pw.this.traffic_weight + 2.0 * pw.this.is_special_day +\n",
        "                 1.0 * pw.this.vehicle_weight)\n",
        "    )\n",
        "    .with_columns(\n",
        "        # Normalize demand\n",
        "        normalized_demand = (pw.this.demand - (-1)) / (29 - (-1)),\n",
        "    )\n",
        "    .with_columns(\n",
        "        # Calculate new price\n",
        "        new_price = 10.0 * (1 + 0.3 * pw.this.normalized_demand)\n",
        "    )\n",
        ")"
      ],
      "metadata": {
        "id": "7spceVWifDo7"
      },
      "id": "7spceVWifDo7",
      "execution_count": null,
      "outputs": []
    },
    {
      "cell_type": "code",
      "source": [
        "# Activate the Panel extension to enable interactive visualizations\n",
        "pn.extension()\n",
        "\n",
        "# Define a custom Bokeh plotting function that takes a data source (from Pathway) and returns a figure\n",
        "def price_plotter1(source):\n",
        "    # Create a Bokeh figure with datetime x-axis\n",
        "    fig = bokeh.plotting.figure(\n",
        "        height=400,\n",
        "        width=800,\n",
        "        title=\"Pathway: Daily Parking Price\",\n",
        "        x_axis_type=\"datetime\",  # Ensure time-based data is properly formatted on the x-axis\n",
        "    )\n",
        "    # Plot a line graph showing how the price evolves over time\n",
        "    fig.line(\"t\", \"price\", source=source, line_width=2, color=\"navy\")\n",
        "\n",
        "    # Overlay red circles at each data point for better visibility\n",
        "    fig.circle(\"t\", \"price\", source=source, size=6, color=\"red\")\n",
        "\n",
        "    return fig\n",
        "\n",
        "\n",
        "def price_plotter2(source):\n",
        "    # Create a Bokeh figure with datetime x-axis\n",
        "    fig = bokeh.plotting.figure(\n",
        "        height=400,\n",
        "        width=800,\n",
        "        title=\"Pathway: Daily Parking Price\",\n",
        "        x_axis_type=\"datetime\",  # Ensure time-based data is properly formatted on the x-axis\n",
        "    )\n",
        "    # Plot a line graph showing how the price evolves over time\n",
        "    fig.line(\"t\", \"new_price\", source=source, line_width=2, color=\"black\")\n",
        "\n",
        "    # Overlay green circles at each data point for better visibility\n",
        "    fig.circle(\"t\", \"new_price\", source=source, size=6, color=\"green\")\n",
        "\n",
        "    return fig\n",
        "\n",
        "# Use Pathway's built-in .plot() method to bind the data stream (delta_window) to the Bokeh plot\n",
        "# - 'price_plotter' is the rendering function\n",
        "# - 'sorting_col=\"t\"' ensures the data is plotted in time order\n",
        "viz2 = delta_window2.plot(price_plotter2, sorting_col=\"t\")\n",
        "viz1 = delta_window1.plot(price_plotter1, sorting_col=\"t\")\n",
        "\n",
        "# Create a Panel layout and make it servable as a web app\n",
        "# This line enables the interactive plot to be displayed when the app is served\n",
        "pn.Column(viz1,viz2).servable()\n"
      ],
      "metadata": {
        "id": "WYBuaRD4Dp0q"
      },
      "id": "WYBuaRD4Dp0q",
      "execution_count": null,
      "outputs": []
    },
    {
      "cell_type": "code",
      "source": [
        "# Run the model\n",
        "\n",
        "%%capture --no-display\n",
        "pw.run()"
      ],
      "metadata": {
        "id": "u9lt425LY0kE"
      },
      "id": "u9lt425LY0kE",
      "execution_count": null,
      "outputs": []
    },
    {
      "cell_type": "code",
      "source": [],
      "metadata": {
        "id": "5FIef8ouXly6"
      },
      "id": "5FIef8ouXly6",
      "execution_count": null,
      "outputs": []
    }
  ],
  "metadata": {
    "kernelspec": {
      "display_name": "Python 3",
      "language": "python",
      "name": "python3"
    },
    "language_info": {
      "codemirror_mode": {
        "name": "ipython",
        "version": 3
      },
      "file_extension": ".py",
      "mimetype": "text/x-python",
      "name": "python",
      "nbconvert_exporter": "python",
      "pygments_lexer": "ipython3",
      "version": "3.13.3"
    },
    "colab": {
      "provenance": []
    }
  },
  "nbformat": 4,
  "nbformat_minor": 5
}